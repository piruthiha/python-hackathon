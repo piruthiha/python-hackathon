{
 "cells": [
  {
   "cell_type": "code",
   "execution_count": 2,
   "id": "9db6e6ed",
   "metadata": {},
   "outputs": [],
   "source": [
    "import numpy as np"
   ]
  },
  {
   "cell_type": "code",
   "execution_count": 3,
   "id": "50863c9c",
   "metadata": {},
   "outputs": [],
   "source": [
    "a = np.array([[2,3,4],[8,5,6]])"
   ]
  },
  {
   "cell_type": "code",
   "execution_count": 4,
   "id": "7740e7a4",
   "metadata": {},
   "outputs": [
    {
     "data": {
      "text/plain": [
       "2"
      ]
     },
     "execution_count": 4,
     "metadata": {},
     "output_type": "execute_result"
    }
   ],
   "source": [
    "a.ndim"
   ]
  },
  {
   "cell_type": "code",
   "execution_count": 5,
   "id": "efee7d95",
   "metadata": {},
   "outputs": [
    {
     "data": {
      "text/plain": [
       "6"
      ]
     },
     "execution_count": 5,
     "metadata": {},
     "output_type": "execute_result"
    }
   ],
   "source": [
    "a.size"
   ]
  },
  {
   "cell_type": "code",
   "execution_count": 6,
   "id": "e1a1edd8",
   "metadata": {},
   "outputs": [
    {
     "data": {
      "text/plain": [
       "(2, 3)"
      ]
     },
     "execution_count": 6,
     "metadata": {},
     "output_type": "execute_result"
    }
   ],
   "source": [
    "a.shape"
   ]
  },
  {
   "cell_type": "code",
   "execution_count": 7,
   "id": "9c774746",
   "metadata": {},
   "outputs": [
    {
     "data": {
      "text/plain": [
       "dtype('int32')"
      ]
     },
     "execution_count": 7,
     "metadata": {},
     "output_type": "execute_result"
    }
   ],
   "source": [
    "a.dtype"
   ]
  },
  {
   "cell_type": "code",
   "execution_count": 78,
   "id": "f9f27523",
   "metadata": {},
   "outputs": [
    {
     "data": {
      "text/plain": [
       "array([   0.,    1.,    2.,    3.,    4.,    5., -500.,    7.,    8.,\n",
       "          9.,   10.,   11.,   12.,   13.,   14.,   15.,   16.,   17.,\n",
       "         18.,   19.], dtype=float32)"
      ]
     },
     "execution_count": 78,
     "metadata": {},
     "output_type": "execute_result"
    }
   ],
   "source": [
    "#ti change data type\n",
    "a.astype('f')"
   ]
  },
  {
   "cell_type": "code",
   "execution_count": 8,
   "id": "66a33c18",
   "metadata": {},
   "outputs": [],
   "source": [
    "#to create zero array\n",
    "D=np.zeros((2,3))"
   ]
  },
  {
   "cell_type": "code",
   "execution_count": 9,
   "id": "24488737",
   "metadata": {},
   "outputs": [
    {
     "data": {
      "text/plain": [
       "array([[0., 0., 0.],\n",
       "       [0., 0., 0.]])"
      ]
     },
     "execution_count": 9,
     "metadata": {},
     "output_type": "execute_result"
    }
   ],
   "source": [
    "D"
   ]
  },
  {
   "cell_type": "code",
   "execution_count": 10,
   "id": "f4e3c4c1",
   "metadata": {},
   "outputs": [],
   "source": [
    "#to create 1 array\n",
    "D=np.ones((2,3))"
   ]
  },
  {
   "cell_type": "code",
   "execution_count": 11,
   "id": "1a2c9c86",
   "metadata": {},
   "outputs": [
    {
     "data": {
      "text/plain": [
       "array([[1., 1., 1.],\n",
       "       [1., 1., 1.]])"
      ]
     },
     "execution_count": 11,
     "metadata": {},
     "output_type": "execute_result"
    }
   ],
   "source": [
    "D"
   ]
  },
  {
   "cell_type": "code",
   "execution_count": 12,
   "id": "94790a38",
   "metadata": {},
   "outputs": [
    {
     "data": {
      "text/plain": [
       "array([ 1,  4,  7, 10, 13, 16, 19])"
      ]
     },
     "execution_count": 12,
     "metadata": {},
     "output_type": "execute_result"
    }
   ],
   "source": [
    "#creating array with step size arange \n",
    "E=np.arange(1,20,3)\n",
    "E"
   ]
  },
  {
   "cell_type": "code",
   "execution_count": 13,
   "id": "7782e40e",
   "metadata": {},
   "outputs": [
    {
     "data": {
      "text/plain": [
       "array([ 1.  ,  3.25,  5.5 ,  7.75, 10.  ])"
      ]
     },
     "execution_count": 13,
     "metadata": {},
     "output_type": "execute_result"
    }
   ],
   "source": [
    "#creating array with equal spacing\n",
    "E=np.linspace(1,10,5)\n",
    "E"
   ]
  },
  {
   "cell_type": "code",
   "execution_count": 14,
   "id": "81491214",
   "metadata": {},
   "outputs": [
    {
     "name": "stdout",
     "output_type": "stream",
     "text": [
      "[70 71 72 73 74 75 76 77 78 79 80 81 82 83 84 85 86 87 88 89 90 91 92 93\n",
      " 94 95 96 97 98 99]\n"
     ]
    }
   ],
   "source": [
    "b = np.arange(70,100)\n",
    "print (b)"
   ]
  },
  {
   "cell_type": "code",
   "execution_count": 15,
   "id": "32de8a43",
   "metadata": {},
   "outputs": [
    {
     "data": {
      "text/plain": [
       "array([[5, 5, 5],\n",
       "       [5, 5, 5],\n",
       "       [5, 5, 5]])"
      ]
     },
     "execution_count": 15,
     "metadata": {},
     "output_type": "execute_result"
    }
   ],
   "source": [
    "#creating array with single value\n",
    "DD=np.full((3,3),5)\n",
    "DD"
   ]
  },
  {
   "cell_type": "code",
   "execution_count": 16,
   "id": "7fffba29",
   "metadata": {},
   "outputs": [
    {
     "name": "stdout",
     "output_type": "stream",
     "text": [
      "[2 8 5 1 7 0 4 3 9 6]\n"
     ]
    }
   ],
   "source": [
    "c = np.random.permutation(10)\n",
    "print(c)"
   ]
  },
  {
   "cell_type": "code",
   "execution_count": 17,
   "id": "7602ab73",
   "metadata": {},
   "outputs": [
    {
     "name": "stdout",
     "output_type": "stream",
     "text": [
      "27\n"
     ]
    }
   ],
   "source": [
    "c=np.random.randint(20,30)\n",
    "print (c)"
   ]
  },
  {
   "cell_type": "code",
   "execution_count": 18,
   "id": "853e126e",
   "metadata": {},
   "outputs": [
    {
     "data": {
      "text/plain": [
       "array([[12, 10, 10],\n",
       "       [15, 15, 18]])"
      ]
     },
     "execution_count": 18,
     "metadata": {},
     "output_type": "execute_result"
    }
   ],
   "source": [
    "#to get random matrix with desired range\n",
    "a=np.random.randint(10,20,(2,3))\n",
    "a"
   ]
  },
  {
   "cell_type": "code",
   "execution_count": 19,
   "id": "bc40c616",
   "metadata": {},
   "outputs": [
    {
     "name": "stdout",
     "output_type": "stream",
     "text": [
      "[ 0  1  2  3  4  5  6  7  8  9 10 11 12 13 14 15 16 17 18 19]\n"
     ]
    }
   ],
   "source": [
    "a = np.arange(20)\n",
    "print (a)"
   ]
  },
  {
   "cell_type": "code",
   "execution_count": 20,
   "id": "1960bd97",
   "metadata": {},
   "outputs": [
    {
     "data": {
      "text/plain": [
       "array([4, 5, 6, 7, 8, 9])"
      ]
     },
     "execution_count": 20,
     "metadata": {},
     "output_type": "execute_result"
    }
   ],
   "source": [
    "a[4:10]"
   ]
  },
  {
   "cell_type": "code",
   "execution_count": 21,
   "id": "4db86b01",
   "metadata": {},
   "outputs": [],
   "source": [
    "a[6]=-500"
   ]
  },
  {
   "cell_type": "code",
   "execution_count": 22,
   "id": "56b4c878",
   "metadata": {},
   "outputs": [
    {
     "name": "stdout",
     "output_type": "stream",
     "text": [
      "[   0    1    2    3    4    5 -500    7    8    9   10   11   12   13\n",
      "   14   15   16   17   18   19]\n"
     ]
    }
   ],
   "source": [
    "print(a)"
   ]
  },
  {
   "cell_type": "code",
   "execution_count": 23,
   "id": "87f55082",
   "metadata": {},
   "outputs": [
    {
     "name": "stdout",
     "output_type": "stream",
     "text": [
      "[25 26 27 28 29]\n"
     ]
    }
   ],
   "source": [
    "ab=np.arange(25,30)\n",
    "print(ab)"
   ]
  },
  {
   "cell_type": "code",
   "execution_count": 24,
   "id": "884f3c4a",
   "metadata": {},
   "outputs": [
    {
     "data": {
      "text/plain": [
       "29"
      ]
     },
     "execution_count": 24,
     "metadata": {},
     "output_type": "execute_result"
    }
   ],
   "source": [
    "ab[4]"
   ]
  },
  {
   "cell_type": "code",
   "execution_count": 25,
   "id": "6d1bedc0",
   "metadata": {},
   "outputs": [],
   "source": [
    "ab[4]=-500"
   ]
  },
  {
   "cell_type": "code",
   "execution_count": 26,
   "id": "6717a96c",
   "metadata": {},
   "outputs": [
    {
     "data": {
      "text/plain": [
       "array([  25,   26,   27,   28, -500])"
      ]
     },
     "execution_count": 26,
     "metadata": {},
     "output_type": "execute_result"
    }
   ],
   "source": [
    "ab"
   ]
  },
  {
   "cell_type": "code",
   "execution_count": 27,
   "id": "884b8808",
   "metadata": {},
   "outputs": [],
   "source": [
    "#to find the index\n",
    "idx=np.argwhere(ab==27)"
   ]
  },
  {
   "cell_type": "code",
   "execution_count": 28,
   "id": "633963c3",
   "metadata": {},
   "outputs": [
    {
     "data": {
      "text/plain": [
       "array([[2]], dtype=int64)"
      ]
     },
     "execution_count": 28,
     "metadata": {},
     "output_type": "execute_result"
    }
   ],
   "source": [
    "idx"
   ]
  },
  {
   "cell_type": "code",
   "execution_count": 29,
   "id": "b8ed420c",
   "metadata": {},
   "outputs": [],
   "source": [
    "#to get only index value\n",
    "idx=np.argwhere(ab==27)[0][0]"
   ]
  },
  {
   "cell_type": "code",
   "execution_count": 30,
   "id": "9bbbcce7",
   "metadata": {},
   "outputs": [
    {
     "data": {
      "text/plain": [
       "2"
      ]
     },
     "execution_count": 30,
     "metadata": {},
     "output_type": "execute_result"
    }
   ],
   "source": [
    "idx"
   ]
  },
  {
   "cell_type": "code",
   "execution_count": 31,
   "id": "e9cda332",
   "metadata": {},
   "outputs": [],
   "source": [
    "#to round off the value to integer in array\n",
    "A=np.round(10*np.random.rand(5,4))"
   ]
  },
  {
   "cell_type": "code",
   "execution_count": 32,
   "id": "dc9670e7",
   "metadata": {},
   "outputs": [
    {
     "data": {
      "text/plain": [
       "array([[ 4.,  9.,  9.,  2.],\n",
       "       [ 9.,  9.,  5., 10.],\n",
       "       [ 4.,  7.,  0.,  3.],\n",
       "       [ 3.,  3.,  9.,  3.],\n",
       "       [ 9.,  6.,  2.,  5.]])"
      ]
     },
     "execution_count": 32,
     "metadata": {},
     "output_type": "execute_result"
    }
   ],
   "source": [
    "A"
   ]
  },
  {
   "cell_type": "code",
   "execution_count": 33,
   "id": "a2ded109",
   "metadata": {},
   "outputs": [
    {
     "data": {
      "text/plain": [
       "3.0"
      ]
     },
     "execution_count": 33,
     "metadata": {},
     "output_type": "execute_result"
    }
   ],
   "source": [
    "A[3,1]"
   ]
  },
  {
   "cell_type": "code",
   "execution_count": 34,
   "id": "cd722186",
   "metadata": {},
   "outputs": [
    {
     "data": {
      "text/plain": [
       "array([4., 7., 0., 3.])"
      ]
     },
     "execution_count": 34,
     "metadata": {},
     "output_type": "execute_result"
    }
   ],
   "source": [
    "#to get particular row\n",
    "A[2,:]"
   ]
  },
  {
   "cell_type": "code",
   "execution_count": 35,
   "id": "d9d3a1d1",
   "metadata": {},
   "outputs": [
    {
     "data": {
      "text/plain": [
       "array([ 2., 10.,  3.,  3.,  5.])"
      ]
     },
     "execution_count": 35,
     "metadata": {},
     "output_type": "execute_result"
    }
   ],
   "source": [
    "#to get particular column\n",
    "A[:,3]"
   ]
  },
  {
   "cell_type": "code",
   "execution_count": 36,
   "id": "cd9af7d1",
   "metadata": {},
   "outputs": [
    {
     "data": {
      "text/plain": [
       "array([[ 4.,  9.,  4.,  3.,  9.],\n",
       "       [ 9.,  9.,  7.,  3.,  6.],\n",
       "       [ 9.,  5.,  0.,  9.,  2.],\n",
       "       [ 2., 10.,  3.,  3.,  5.]])"
      ]
     },
     "execution_count": 36,
     "metadata": {},
     "output_type": "execute_result"
    }
   ],
   "source": [
    "#to change column to row\n",
    "A.T"
   ]
  },
  {
   "cell_type": "code",
   "execution_count": 37,
   "id": "935fab98",
   "metadata": {},
   "outputs": [],
   "source": [
    "#to sort the array\n",
    "A.sort(axis=0)"
   ]
  },
  {
   "cell_type": "code",
   "execution_count": 38,
   "id": "d789a95a",
   "metadata": {},
   "outputs": [
    {
     "data": {
      "text/plain": [
       "array([[ 3.,  3.,  0.,  2.],\n",
       "       [ 4.,  6.,  2.,  3.],\n",
       "       [ 4.,  7.,  5.,  3.],\n",
       "       [ 9.,  9.,  9.,  5.],\n",
       "       [ 9.,  9.,  9., 10.]])"
      ]
     },
     "execution_count": 38,
     "metadata": {},
     "output_type": "execute_result"
    }
   ],
   "source": [
    "A"
   ]
  },
  {
   "cell_type": "code",
   "execution_count": 39,
   "id": "1b1c6502",
   "metadata": {},
   "outputs": [],
   "source": [
    "A.sort(axis=1)"
   ]
  },
  {
   "cell_type": "code",
   "execution_count": 40,
   "id": "c36abbba",
   "metadata": {},
   "outputs": [
    {
     "data": {
      "text/plain": [
       "array([[ 0.,  2.,  3.,  3.],\n",
       "       [ 2.,  3.,  4.,  6.],\n",
       "       [ 3.,  4.,  5.,  7.],\n",
       "       [ 5.,  9.,  9.,  9.],\n",
       "       [ 9.,  9.,  9., 10.]])"
      ]
     },
     "execution_count": 40,
     "metadata": {},
     "output_type": "execute_result"
    }
   ],
   "source": [
    "A"
   ]
  },
  {
   "cell_type": "code",
   "execution_count": 41,
   "id": "8685097a",
   "metadata": {},
   "outputs": [],
   "source": [
    "#more index slicing\n",
    "A=np.arange(100)"
   ]
  },
  {
   "cell_type": "code",
   "execution_count": 42,
   "id": "33cc6db0",
   "metadata": {},
   "outputs": [],
   "source": [
    "B=A[[3,4,5]]"
   ]
  },
  {
   "cell_type": "code",
   "execution_count": 43,
   "id": "325ce02c",
   "metadata": {},
   "outputs": [
    {
     "data": {
      "text/plain": [
       "array([3, 4, 5])"
      ]
     },
     "execution_count": 43,
     "metadata": {},
     "output_type": "execute_result"
    }
   ],
   "source": [
    "B"
   ]
  },
  {
   "cell_type": "code",
   "execution_count": 44,
   "id": "715ae808",
   "metadata": {},
   "outputs": [],
   "source": [
    "B[0] =-5"
   ]
  },
  {
   "cell_type": "code",
   "execution_count": 45,
   "id": "348c5b45",
   "metadata": {},
   "outputs": [
    {
     "data": {
      "text/plain": [
       "array([-5,  4,  5])"
      ]
     },
     "execution_count": 45,
     "metadata": {},
     "output_type": "execute_result"
    }
   ],
   "source": [
    "B"
   ]
  },
  {
   "cell_type": "code",
   "execution_count": 46,
   "id": "4f5cc4ca",
   "metadata": {},
   "outputs": [
    {
     "data": {
      "text/plain": [
       "array([ 0,  1,  2,  3,  4,  5,  6,  7,  8,  9, 10, 11, 12, 13, 14, 15, 16,\n",
       "       17, 18, 19, 20, 21, 22, 23, 24, 25, 26, 27, 28, 29, 30, 31, 32, 33,\n",
       "       34, 35, 36, 37, 38, 39, 40, 41, 42, 43, 44, 45, 46, 47, 48, 49, 50,\n",
       "       51, 52, 53, 54, 55, 56, 57, 58, 59, 60, 61, 62, 63, 64, 65, 66, 67,\n",
       "       68, 69, 70, 71, 72, 73, 74, 75, 76, 77, 78, 79, 80, 81, 82, 83, 84,\n",
       "       85, 86, 87, 88, 89, 90, 91, 92, 93, 94, 95, 96, 97, 98, 99])"
      ]
     },
     "execution_count": 46,
     "metadata": {},
     "output_type": "execute_result"
    }
   ],
   "source": [
    "A"
   ]
  },
  {
   "cell_type": "code",
   "execution_count": 47,
   "id": "50f81608",
   "metadata": {},
   "outputs": [],
   "source": [
    "B =A[A<40]"
   ]
  },
  {
   "cell_type": "code",
   "execution_count": 48,
   "id": "54239c2f",
   "metadata": {},
   "outputs": [
    {
     "data": {
      "text/plain": [
       "array([ 0,  1,  2,  3,  4,  5,  6,  7,  8,  9, 10, 11, 12, 13, 14, 15, 16,\n",
       "       17, 18, 19, 20, 21, 22, 23, 24, 25, 26, 27, 28, 29, 30, 31, 32, 33,\n",
       "       34, 35, 36, 37, 38, 39])"
      ]
     },
     "execution_count": 48,
     "metadata": {},
     "output_type": "execute_result"
    }
   ],
   "source": [
    "B"
   ]
  },
  {
   "cell_type": "code",
   "execution_count": 49,
   "id": "58f8f162",
   "metadata": {},
   "outputs": [],
   "source": [
    "B=A[(A<40) & (A>30)]"
   ]
  },
  {
   "cell_type": "code",
   "execution_count": 50,
   "id": "a44be887",
   "metadata": {},
   "outputs": [
    {
     "data": {
      "text/plain": [
       "array([31, 32, 33, 34, 35, 36, 37, 38, 39])"
      ]
     },
     "execution_count": 50,
     "metadata": {},
     "output_type": "execute_result"
    }
   ],
   "source": [
    "B"
   ]
  },
  {
   "cell_type": "code",
   "execution_count": 51,
   "id": "e5c5d8b2",
   "metadata": {},
   "outputs": [],
   "source": [
    "#Broadcasting\n",
    "A=np.round(10*np.random.rand(3,4))"
   ]
  },
  {
   "cell_type": "code",
   "execution_count": 52,
   "id": "5f391229",
   "metadata": {},
   "outputs": [
    {
     "data": {
      "text/plain": [
       "array([[8., 6., 8., 1.],\n",
       "       [0., 1., 6., 5.],\n",
       "       [2., 6., 4., 1.]])"
      ]
     },
     "execution_count": 52,
     "metadata": {},
     "output_type": "execute_result"
    }
   ],
   "source": [
    "A"
   ]
  },
  {
   "cell_type": "code",
   "execution_count": 53,
   "id": "ee0a6a38",
   "metadata": {},
   "outputs": [
    {
     "data": {
      "text/plain": [
       "array([[13., 11., 13.,  6.],\n",
       "       [ 5.,  6., 11., 10.],\n",
       "       [ 7., 11.,  9.,  6.]])"
      ]
     },
     "execution_count": 53,
     "metadata": {},
     "output_type": "execute_result"
    }
   ],
   "source": [
    "A+5"
   ]
  },
  {
   "cell_type": "code",
   "execution_count": 54,
   "id": "64f60310",
   "metadata": {},
   "outputs": [
    {
     "data": {
      "text/plain": [
       "array([[8., 6., 8., 1.],\n",
       "       [0., 1., 6., 5.],\n",
       "       [2., 6., 4., 1.]])"
      ]
     },
     "execution_count": 54,
     "metadata": {},
     "output_type": "execute_result"
    }
   ],
   "source": [
    "#concatination\n",
    "A"
   ]
  },
  {
   "cell_type": "code",
   "execution_count": 55,
   "id": "fcaaa748",
   "metadata": {},
   "outputs": [],
   "source": [
    "B=np.round(10*np.random.rand(3,4))"
   ]
  },
  {
   "cell_type": "code",
   "execution_count": 56,
   "id": "f4307512",
   "metadata": {},
   "outputs": [
    {
     "data": {
      "text/plain": [
       "array([[ 2., 10., 10.,  1.],\n",
       "       [ 9.,  9.,  1.,  6.],\n",
       "       [ 8.,  2.,  4.,  7.]])"
      ]
     },
     "execution_count": 56,
     "metadata": {},
     "output_type": "execute_result"
    }
   ],
   "source": [
    "B"
   ]
  },
  {
   "cell_type": "code",
   "execution_count": 57,
   "id": "b8b54185",
   "metadata": {},
   "outputs": [],
   "source": [
    "C=np.hstack((A,B))"
   ]
  },
  {
   "cell_type": "code",
   "execution_count": 58,
   "id": "1bd7497c",
   "metadata": {},
   "outputs": [
    {
     "data": {
      "text/plain": [
       "array([[ 8.,  6.,  8.,  1.,  2., 10., 10.,  1.],\n",
       "       [ 0.,  1.,  6.,  5.,  9.,  9.,  1.,  6.],\n",
       "       [ 2.,  6.,  4.,  1.,  8.,  2.,  4.,  7.]])"
      ]
     },
     "execution_count": 58,
     "metadata": {},
     "output_type": "execute_result"
    }
   ],
   "source": [
    "C"
   ]
  },
  {
   "cell_type": "code",
   "execution_count": 59,
   "id": "910c5c1c",
   "metadata": {},
   "outputs": [
    {
     "data": {
      "text/plain": [
       "array([[[ 8.,  6.,  8.,  1.],\n",
       "        [ 0.,  1.,  6.,  5.],\n",
       "        [ 2.,  6.,  4.,  1.]],\n",
       "\n",
       "       [[ 2., 10., 10.,  1.],\n",
       "        [ 9.,  9.,  1.,  6.],\n",
       "        [ 8.,  2.,  4.,  7.]]])"
      ]
     },
     "execution_count": 59,
     "metadata": {},
     "output_type": "execute_result"
    }
   ],
   "source": [
    "C=np.stack((A,B))\n",
    "C\n"
   ]
  },
  {
   "cell_type": "code",
   "execution_count": 64,
   "id": "ebae46d2",
   "metadata": {},
   "outputs": [
    {
     "data": {
      "text/plain": [
       "array([[ 8.,  6.,  8.,  1.],\n",
       "       [ 0.,  1.,  6.,  5.],\n",
       "       [ 2.,  6.,  4.,  1.],\n",
       "       [ 2., 10., 10.,  1.],\n",
       "       [ 9.,  9.,  1.,  6.],\n",
       "       [ 8.,  2.,  4.,  7.]])"
      ]
     },
     "execution_count": 64,
     "metadata": {},
     "output_type": "execute_result"
    }
   ],
   "source": [
    "C=np.concatenate((A,B))\n",
    "C.ndim\n",
    "C"
   ]
  },
  {
   "cell_type": "code",
   "execution_count": 63,
   "id": "78ebd692",
   "metadata": {},
   "outputs": [
    {
     "name": "stdout",
     "output_type": "stream",
     "text": [
      "79.8 µs ± 7.24 µs per loop (mean ± std. dev. of 7 runs, 10000 loops each)\n",
      "7.46 µs ± 2.1 µs per loop (mean ± std. dev. of 7 runs, 100000 loops each)\n"
     ]
    }
   ],
   "source": [
    "#to know the timings\n",
    "A=np.arange(1000)\n",
    "%timeit sum(A)\n",
    "%timeit np.sum(A)"
   ]
  },
  {
   "cell_type": "code",
   "execution_count": 105,
   "id": "34d06f5e",
   "metadata": {},
   "outputs": [
    {
     "name": "stdout",
     "output_type": "stream",
     "text": [
      "[[[2 3 4]\n",
      "  [3 4 6]]\n",
      "\n",
      " [[4 5 6]\n",
      "  [7 8 9]]]\n",
      "[[[2 3 4]\n",
      "  [3 4 6]]\n",
      "\n",
      " [[4 5 6]\n",
      "  [7 8 9]]]\n",
      "[[[2 3 4]\n",
      "  [3 4 6]]\n",
      "\n",
      " [[4 5 6]\n",
      "  [7 8 9]]]\n",
      "[[[2 3 4]\n",
      "  [3 4 6]]\n",
      "\n",
      " [[4 5 6]\n",
      "  [7 8 9]]]\n",
      "[[[2 3 4]\n",
      "  [3 4 6]]\n",
      "\n",
      " [[4 5 6]\n",
      "  [7 8 9]]]\n",
      "[[[2 3 4]\n",
      "  [3 4 6]]\n",
      "\n",
      " [[4 5 6]\n",
      "  [7 8 9]]]\n",
      "[[[2 3 4]\n",
      "  [3 4 6]]\n",
      "\n",
      " [[4 5 6]\n",
      "  [7 8 9]]]\n",
      "[[[2 3 4]\n",
      "  [3 4 6]]\n",
      "\n",
      " [[4 5 6]\n",
      "  [7 8 9]]]\n",
      "[[[2 3 4]\n",
      "  [3 4 6]]\n",
      "\n",
      " [[4 5 6]\n",
      "  [7 8 9]]]\n",
      "[[[2 3 4]\n",
      "  [3 4 6]]\n",
      "\n",
      " [[4 5 6]\n",
      "  [7 8 9]]]\n",
      "[[[2 3 4]\n",
      "  [3 4 6]]\n",
      "\n",
      " [[4 5 6]\n",
      "  [7 8 9]]]\n",
      "[[[2 3 4]\n",
      "  [3 4 6]]\n",
      "\n",
      " [[4 5 6]\n",
      "  [7 8 9]]]\n"
     ]
    }
   ],
   "source": [
    "#iteration using nditer\n",
    "A=np.array([[[2,3,4],[3,4,6]],[[4,5,6],[7,8,9]]])\n",
    "A.ndim\n",
    "for x in np.nditer(A):\n",
    "    print(A)"
   ]
  },
  {
   "cell_type": "code",
   "execution_count": 74,
   "id": "02564658",
   "metadata": {},
   "outputs": [
    {
     "data": {
      "text/plain": [
       "[array([1, 2]), array([3, 4]), array([5, 6]), array([7, 8])]"
      ]
     },
     "execution_count": 74,
     "metadata": {},
     "output_type": "execute_result"
    }
   ],
   "source": [
    "#sliting\n",
    "A=np.array([1,2,3,4,5,6,7,8])\n",
    "newA=np.array_split(A,4)\n",
    "newA"
   ]
  },
  {
   "cell_type": "code",
   "execution_count": 76,
   "id": "62c3f248",
   "metadata": {},
   "outputs": [
    {
     "data": {
      "text/plain": [
       "[array([[ 1,  2,  3],\n",
       "        [12, 13, 14]]),\n",
       " array([[ 4,  5,  6],\n",
       "        [15, 16, 17]])]"
      ]
     },
     "execution_count": 76,
     "metadata": {},
     "output_type": "execute_result"
    }
   ],
   "source": [
    "#spliting 2 d array\n",
    "A=np.array([[1,2,3,4,5,6],[12,13,14,15,16,17]])\n",
    "newA=np.hsplit(A,2)\n",
    "newA"
   ]
  },
  {
   "cell_type": "code",
   "execution_count": 77,
   "id": "763b5302",
   "metadata": {},
   "outputs": [
    {
     "name": "stdout",
     "output_type": "stream",
     "text": [
      "(array([3], dtype=int64),)\n"
     ]
    }
   ],
   "source": [
    "#search\n",
    "A=np.array([1,2,3,4,5,6,7,8])\n",
    "x=np.where(A==4)\n",
    "print(x)"
   ]
  },
  {
   "cell_type": "code",
   "execution_count": null,
   "id": "6c150a6a",
   "metadata": {},
   "outputs": [],
   "source": [
    "print('test')"
   ]
  }
 ],
 "metadata": {
  "kernelspec": {
   "display_name": "Python 3 (ipykernel)",
   "language": "python",
   "name": "python3"
  },
  "language_info": {
   "codemirror_mode": {
    "name": "ipython",
    "version": 3
   },
   "file_extension": ".py",
   "mimetype": "text/x-python",
   "name": "python",
   "nbconvert_exporter": "python",
   "pygments_lexer": "ipython3",
   "version": "3.11.1 (tags/v3.11.1:a7a450f, Dec  6 2022, 19:58:39) [MSC v.1934 64 bit (AMD64)]"
  },
  "toc": {
   "base_numbering": 1,
   "nav_menu": {},
   "number_sections": true,
   "sideBar": true,
   "skip_h1_title": false,
   "title_cell": "Table of Contents",
   "title_sidebar": "Contents",
   "toc_cell": false,
   "toc_position": {},
   "toc_section_display": true,
   "toc_window_display": false
  },
  "vscode": {
   "interpreter": {
    "hash": "ba33573cf494b130d2261e7f7aa65bcc3a6258073134ca426d105ff1c7dd5af3"
   }
  }
 },
 "nbformat": 4,
 "nbformat_minor": 5
}
